{
 "cells": [
  {
   "attachments": {},
   "cell_type": "markdown",
   "metadata": {},
   "source": [
    "# Problem 48"
   ]
  },
  {
   "cell_type": "code",
   "execution_count": null,
   "metadata": {},
   "outputs": [],
   "source": [
    "from random import randint\n",
    "from typing import Optional\n",
    "from functools import reduce\n",
    "\n",
    "MOD = 10_000_000_000"
   ]
  },
  {
   "cell_type": "code",
   "execution_count": null,
   "metadata": {},
   "outputs": [],
   "source": [
    "def wrong_pow_(\n",
    "    n: int, pow: int, mod: Optional[int] = None, acc: int = 1, debug: bool = False\n",
    ") -> int:\n",
    "    \"\"\"\n",
    "    oopsies\n",
    "    \"\"\"\n",
    "    if pow == 0:\n",
    "        return 1\n",
    "\n",
    "    answer = n\n",
    "    while pow > 1:\n",
    "        if answer == 0:\n",
    "            return 0\n",
    "\n",
    "        if debug:\n",
    "            print(f\"in mod_: {pow=} {answer=}\")\n",
    "\n",
    "        answer *= answer\n",
    "\n",
    "        if pow % 2 == 1:\n",
    "            answer *= n\n",
    "\n",
    "        pow //= 2\n",
    "\n",
    "        if mod is not None:\n",
    "            answer %= mod\n",
    "\n",
    "    return answer\n",
    "\n",
    "\n",
    "def pow_(n: int, pow: int, mod: Optional[int] = None, debug: bool = False) -> int:\n",
    "    \"\"\"\n",
    "    tail end recursive, i think.\n",
    "    only works for pow >= 0 and pow % 1 == 0;\n",
    "    positive integers only + base case for 0 (:\n",
    "    \"\"\"\n",
    "    if pow == 0:\n",
    "        return 1\n",
    "\n",
    "    ans = n\n",
    "    if pow == 1:\n",
    "        ans = n\n",
    "    if pow == 2:\n",
    "        ans = n * n\n",
    "\n",
    "    p = pow_(n, pow // 2, mod)\n",
    "\n",
    "    if pow % 2 == 0:\n",
    "        ans = p * p\n",
    "    else:\n",
    "        ans = p * p * n\n",
    "\n",
    "    if mod is None:\n",
    "        return ans\n",
    "    else:\n",
    "        return ans % mod"
   ]
  },
  {
   "cell_type": "code",
   "execution_count": null,
   "metadata": {},
   "outputs": [],
   "source": [
    "for _ in range(10):\n",
    "    a, b, c = randint(1, 100), randint(1, 100), randint(1, 100)\n",
    "    assert pow_(a, b, c) == pow(a, b, c)"
   ]
  },
  {
   "cell_type": "code",
   "execution_count": null,
   "metadata": {},
   "outputs": [],
   "source": [
    "answer = 0\n",
    "for n in range(1, 1000 + 1):\n",
    "    answer = (answer + pow_(n, n, MOD)) % MOD\n",
    "print(answer)"
   ]
  },
  {
   "cell_type": "code",
   "execution_count": null,
   "metadata": {},
   "outputs": [],
   "source": [
    "# same result\n",
    "print(reduce(lambda a, b: (a + b) % MOD, [pow(i, i, MOD) for i in range(1, 1000 + 1)]))"
   ]
  }
 ],
 "metadata": {
  "kernelspec": {
   "display_name": "python_env-ZHuQOaaz",
   "language": "python",
   "name": "python3"
  },
  "language_info": {
   "codemirror_mode": {
    "name": "ipython",
    "version": 3
   },
   "file_extension": ".py",
   "mimetype": "text/x-python",
   "name": "python",
   "nbconvert_exporter": "python",
   "pygments_lexer": "ipython3",
   "version": "3.10.6"
  },
  "orig_nbformat": 4
 },
 "nbformat": 4,
 "nbformat_minor": 2
}
