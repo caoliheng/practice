{
 "cells": [
  {
   "cell_type": "code",
   "execution_count": 1,
   "metadata": {},
   "outputs": [],
   "source": [
    "## 1.1\n",
    "# Is Unique: Implement an algorithm to determine if a string has all unique characters. What if you cannot use additional data structures?\n",
    "\n",
    "def is_unique(s):\n",
    "    s.sort()  # This makes sure that the duplicate characters will be next to each other.\n",
    "\n",
    "    for i in range(1, len(s)):\n",
    "        if s[i] == s[i-1]:\n",
    "            return False\n",
    "    \n",
    "    return True\n",
    "\n",
    "def is_unique_short(s):\n",
    "    s.sort()\n",
    "    return all(s[i] != s[i-1] for i in range(1, len(s)))"
   ]
  },
  {
   "cell_type": "code",
   "execution_count": null,
   "metadata": {},
   "outputs": [],
   "source": [
    "## 1.2\n",
    "# Check Permutation: Given two strings, write a method to decide if one is a permutation of the other.\n",
    "\n",
    "def check_permutation(s1, s2):\n",
    "    # Sorting gives a \"true\" ordering. Strings can then be directly compared.\n",
    "    return sorted(s1) == sorted(s2)"
   ]
  },
  {
   "cell_type": "code",
   "execution_count": null,
   "metadata": {},
   "outputs": [],
   "source": [
    "# 1.3\n",
    "# URLify: Write a method to replace all spaces in a string with '%20'. You may assume that the string has sufficient space at the end to hold the additional characters, and that you are given the \"true\" length of the string. \n",
    "\n",
    "def move_characters_back(arr, start_index, shift):\n",
    "    for i in range(len(arr)-1, start_index-1):\n",
    "        arr[i] = arr[i-shift]\n",
    "\n",
    "def URLify(url, true_length):\n",
    "    url = list(url)  # convert string to list so operations are faster\n",
    "    i = 0\n",
    "    while i < true_length:\n",
    "        if url[i] == ' ':\n",
    "            move_characters_back(url, 3)\n",
    "            url[i] = '%'\n",
    "            url[i+1] = '2'\n",
    "            url[i+2] = '0'\n",
    "\n",
    "    return \"\".join(url)"
   ]
  },
  {
   "cell_type": "code",
   "execution_count": 7,
   "metadata": {},
   "outputs": [],
   "source": [
    "# 1.5 \n",
    "# One Away: Check if two strings are one edit away. One edit is either insertion, removal, or swap of characteres.\n",
    "\n",
    "def OneAway(s1, s2):\n",
    "    def swap(s1, s2):\n",
    "        # swap means at most one error\n",
    "        error_found = False\n",
    "        for c1, c2 in zip(s1, s2):\n",
    "            if c1 != c2:\n",
    "                if error_found:\n",
    "                    return False\n",
    "                else:\n",
    "                    error_found = True\n",
    "        return True\n",
    "\n",
    "    def insertion(s1, s2):\n",
    "        # assume that s1 is the shorter string\n",
    "        assert len(s1) <= len(s2)\n",
    "        i1, i2 = 0, 0\n",
    "        error_found = False\n",
    "        while i1 < len(s1) and i2 < len(s2):\n",
    "            if s1[i1] != s2[i2]:\n",
    "                if error_found:\n",
    "                    # we can have at most one error\n",
    "                    return False\n",
    "                else:\n",
    "                    error_found = True\n",
    "                    i2 += 1\n",
    "            i1 += 1\n",
    "            i2 += 1\n",
    "        \n",
    "        return True\n",
    "\n",
    "\n",
    "\n",
    "    if len(s1) == len(s2):\n",
    "        return swap(s1, s2)\n",
    "    elif len(s1) + 1 == len(s2):\n",
    "        return insertion(s1, s2)\n",
    "    elif len(s1) - 1 == len(s2):\n",
    "        return insertion(s2, s1)\n",
    "\n",
    "    return False\n",
    "\n",
    "assert OneAway(\"asdf\", \"asd\") == True  # insertion, s1 longer\n",
    "assert OneAway(\"jkl;\", \"jjkl;\") == True  # insertion, s2 longer\n",
    "assert OneAway(\"tyuiasdf\", \"asdf;jl\") == False  # not swap nor insertion\n",
    "assert OneAway(\"xcvb\", \"xczb\") == True  # swap\n",
    "assert OneAway(\"a\", \"zxcv\")  # not swap nor insertion\n"
   ]
  }
 ],
 "metadata": {
  "interpreter": {
   "hash": "669f5abd92f1a410df15b0643b9f42360e277a412fc08ae8bc7d7911cf7e8f3d"
  },
  "kernelspec": {
   "display_name": "Python 3.10.2 64-bit",
   "language": "python",
   "name": "python3"
  },
  "language_info": {
   "codemirror_mode": {
    "name": "ipython",
    "version": 3
   },
   "file_extension": ".py",
   "mimetype": "text/x-python",
   "name": "python",
   "nbconvert_exporter": "python",
   "pygments_lexer": "ipython3",
   "version": "3.10.2"
  },
  "orig_nbformat": 4
 },
 "nbformat": 4,
 "nbformat_minor": 2
}
